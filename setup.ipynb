{
  "nbformat": 4,
  "nbformat_minor": 0,
  "metadata": {
    "colab": {
      "provenance": [],
      "authorship_tag": "ABX9TyMOzyLblaW55ITa8qjJn+nK",
      "include_colab_link": true
    },
    "kernelspec": {
      "name": "python3",
      "display_name": "Python 3"
    },
    "language_info": {
      "name": "python"
    }
  },
  "cells": [
    {
      "cell_type": "markdown",
      "metadata": {
        "id": "view-in-github",
        "colab_type": "text"
      },
      "source": [
        "<a href=\"https://colab.research.google.com/github/yajima-yasutoshi/GoogleColaboratorySetup/blob/main/setup.ipynb\" target=\"_parent\"><img src=\"https://colab.research.google.com/assets/colab-badge.svg\" alt=\"Open In Colab\"/></a>"
      ]
    },
    {
      "cell_type": "markdown",
      "source": [
        "# Google Colaboratoryの始め方"
      ],
      "metadata": {
        "id": "Fu_M_pfFObLc"
      }
    },
    {
      "cell_type": "markdown",
      "source": [
        "## Google Colaboratory とは何か\n",
        "\n",
        "ブラウザ（chrome）を使い、Pythonプログラムを実行できる環境\n",
        "\n",
        "### 主な特徴\n",
        "\n",
        "* Pythonプログラムが作成\n",
        "* AIを実行する環境が既に用意（CPUだけでなくGPUも利用できる）\n",
        "* プログラムを**Colaboノーブック**に作成し、対話的にPythonが利用\n",
        "\n",
        "### 参考サイト\n",
        "\n",
        "* Google Colaboratory のWebページ  \n",
        "https://colab.research.google.com/\n",
        "\n",
        "\n",
        "\n"
      ],
      "metadata": {
        "id": "fAkTsnPBY0QP"
      }
    },
    {
      "cell_type": "markdown",
      "source": [
        "## 始め方\n",
        "\n",
        "\n",
        "1. Googleアプリから、Googleドライブにアクセス   \n",
        "あるいは https://drive.google.com/ にアクセス\n",
        "2. 新規 → その他 → Google Colaboratoryを選択\n",
        "3. 新しい「Colaboノートブック」が開く\n"
      ],
      "metadata": {
        "id": "YuredqkxcbR_"
      }
    },
    {
      "cell_type": "markdown",
      "source": [
        "### テキスト入力\n",
        "マークダウン形式で入力\n",
        "改行はスペースを2個入力"
      ],
      "metadata": {
        "id": "JP46pGB6XZLZ"
      }
    },
    {
      "cell_type": "markdown",
      "source": [
        "### スペース2個で改行の例\n",
        "\n",
        "これでは\n",
        "改行されません。\n",
        "\n",
        "これで改行  \n",
        "されます。\n",
        "*斜体テキスト*"
      ],
      "metadata": {
        "id": "7RU1rNhuUXd2"
      }
    },
    {
      "cell_type": "markdown",
      "source": [
        "### 数式の入力\n",
        "数式の入力は LaTeX形式を使います。\n",
        "$$ y = a x^2 + b$$\n",
        "$$ y = \\frac{1}{x} $$"
      ],
      "metadata": {
        "id": "4hZRtSHLU6VX"
      }
    },
    {
      "cell_type": "markdown",
      "source": [
        "### Colaboratory の機能\n",
        "\n",
        "* セッションの管理\n",
        "\n",
        "アクティブなセッションを管理することができる。  \n",
        "ランタイム → セッションの管理\n",
        "\n",
        "* スクラッチコードセル\n",
        "簡単なコードを試すことができるセル。ノートブックには残したくないが試してみたいコードがある場合\n",
        "\n",
        "挿入 → スクラッチ\n",
        "\n",
        "* コードスニペット\n",
        "\n",
        "\n",
        "\n",
        "\n"
      ],
      "metadata": {
        "id": "cX-Rx2PxqbcW"
      }
    }
  ]
}