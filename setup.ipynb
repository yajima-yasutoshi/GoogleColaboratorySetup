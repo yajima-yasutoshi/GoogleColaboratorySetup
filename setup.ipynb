{
  "nbformat": 4,
  "nbformat_minor": 0,
  "metadata": {
    "colab": {
      "provenance": [],
      "authorship_tag": "ABX9TyODF+RdjEmanIUoTg7DcjXk",
      "include_colab_link": true
    },
    "kernelspec": {
      "name": "python3",
      "display_name": "Python 3"
    },
    "language_info": {
      "name": "python"
    }
  },
  "cells": [
    {
      "cell_type": "markdown",
      "metadata": {
        "id": "view-in-github",
        "colab_type": "text"
      },
      "source": [
        "<a href=\"https://colab.research.google.com/github/yajima-yasutoshi/GoogleColaboratorySetup/blob/main/setup.ipynb\" target=\"_parent\"><img src=\"https://colab.research.google.com/assets/colab-badge.svg\" alt=\"Open In Colab\"/></a>"
      ]
    },
    {
      "cell_type": "markdown",
      "source": [
        "# Google Colaboratoryの使い方\n",
        "## セルへの入力\n",
        "### テキスト入力\n",
        "\n",
        "*   マークダウン形式で入力\n",
        "*   改行はスペースを2個入力\n",
        "\n"
      ],
      "metadata": {
        "id": "Fu_M_pfFObLc"
      }
    },
    {
      "cell_type": "markdown",
      "source": [
        "### スペース2個で改行の例\n",
        "\n",
        "これでは\n",
        "改行されません。\n",
        "\n",
        "これで改行  \n",
        "されます。\n",
        "*斜体テキスト*"
      ],
      "metadata": {
        "id": "7RU1rNhuUXd2"
      }
    },
    {
      "cell_type": "markdown",
      "source": [
        "### 数式の入力\n",
        "数式の入力は LaTeX形式を使います。\n",
        "$$ y = a x^2 + b$$\n",
        "$$ y = \\frac{1}{x} $$"
      ],
      "metadata": {
        "id": "4hZRtSHLU6VX"
      }
    },
    {
      "cell_type": "code",
      "execution_count": null,
      "metadata": {
        "id": "t_SZA0kQN-iO"
      },
      "outputs": [],
      "source": []
    }
  ]
}